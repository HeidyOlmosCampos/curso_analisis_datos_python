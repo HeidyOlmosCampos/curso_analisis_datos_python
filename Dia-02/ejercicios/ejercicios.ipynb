{
 "cells": [
  {
   "cell_type": "markdown",
   "metadata": {},
   "source": [
    "## Ejercicio 1\n",
    "\n",
    "En la celda de código siguiente crea un dataframe llamado frutas que tenga esta estructura: \n",
    "<br><br>\n",
    "<img src=\"imgs/ej-01.PNG\">"
   ]
  },
  {
   "cell_type": "code",
   "execution_count": null,
   "metadata": {},
   "outputs": [
    {
     "data": {
      "text/html": [
       "<div>\n",
       "<style scoped>\n",
       "    .dataframe tbody tr th:only-of-type {\n",
       "        vertical-align: middle;\n",
       "    }\n",
       "\n",
       "    .dataframe tbody tr th {\n",
       "        vertical-align: top;\n",
       "    }\n",
       "\n",
       "    .dataframe thead th {\n",
       "        text-align: right;\n",
       "    }\n",
       "</style>\n",
       "<table border=\"1\" class=\"dataframe\">\n",
       "  <thead>\n",
       "    <tr style=\"text-align: right;\">\n",
       "      <th></th>\n",
       "      <th>Manzanas</th>\n",
       "      <th>Platanos</th>\n",
       "    </tr>\n",
       "  </thead>\n",
       "  <tbody>\n",
       "    <tr>\n",
       "      <th>0</th>\n",
       "      <td>30</td>\n",
       "      <td>21</td>\n",
       "    </tr>\n",
       "  </tbody>\n",
       "</table>\n",
       "</div>"
      ],
      "text/plain": [
       "   Manzanas  Platanos\n",
       "0        30        21"
      ]
     },
     "execution_count": 2,
     "metadata": {},
     "output_type": "execute_result"
    }
   ],
   "source": [
    "import pandas as pd\n",
    "\n",
    "frutas = pd.DataFrame({'Manzanas' : [30], 'Platanos' : [21]})\n",
    "frutas"
   ]
  },
  {
   "cell_type": "markdown",
   "metadata": {},
   "source": [
    "## Ejercicio 2\n",
    "\n",
    "Crea un dataframe llamado ventas_frutas que encaje con la siguiente foto:\n",
    "\n",
    "<br>\n",
    "\n",
    "<img src=\"imgs/ej-01.2.PNG\">"
   ]
  },
  {
   "cell_type": "code",
   "execution_count": 3,
   "metadata": {},
   "outputs": [
    {
     "data": {
      "text/html": [
       "<div>\n",
       "<style scoped>\n",
       "    .dataframe tbody tr th:only-of-type {\n",
       "        vertical-align: middle;\n",
       "    }\n",
       "\n",
       "    .dataframe tbody tr th {\n",
       "        vertical-align: top;\n",
       "    }\n",
       "\n",
       "    .dataframe thead th {\n",
       "        text-align: right;\n",
       "    }\n",
       "</style>\n",
       "<table border=\"1\" class=\"dataframe\">\n",
       "  <thead>\n",
       "    <tr style=\"text-align: right;\">\n",
       "      <th></th>\n",
       "      <th>Manzanas</th>\n",
       "      <th>Platanos</th>\n",
       "    </tr>\n",
       "  </thead>\n",
       "  <tbody>\n",
       "    <tr>\n",
       "      <th>Ventas 2017</th>\n",
       "      <td>30</td>\n",
       "      <td>21</td>\n",
       "    </tr>\n",
       "    <tr>\n",
       "      <th>Ventas 2018</th>\n",
       "      <td>41</td>\n",
       "      <td>34</td>\n",
       "    </tr>\n",
       "  </tbody>\n",
       "</table>\n",
       "</div>"
      ],
      "text/plain": [
       "             Manzanas  Platanos\n",
       "Ventas 2017        30        21\n",
       "Ventas 2018        41        34"
      ]
     },
     "execution_count": 3,
     "metadata": {},
     "output_type": "execute_result"
    }
   ],
   "source": [
    "ventas_frutas = pd.DataFrame({'Manzanas' : [30, 41], 'Platanos' : [21, 34]}, index=['Ventas 2017', 'Ventas 2018'])\n",
    "ventas_frutas"
   ]
  },
  {
   "cell_type": "markdown",
   "metadata": {},
   "source": [
    "## Ejercicio 3\n",
    "\n",
    "Crea una variable ingredientes que sea una serie con este contenido:\n",
    "\n",
    "<img src=\"imgs/ej-01.3.PNG\">"
   ]
  },
  {
   "cell_type": "code",
   "execution_count": 5,
   "metadata": {},
   "outputs": [
    {
     "data": {
      "text/plain": [
       "Harina          4 tazas\n",
       "Lecha            1 taza\n",
       "Huevo     2 unidades XL\n",
       "Limon           1 pieza\n",
       "dtype: object"
      ]
     },
     "execution_count": 5,
     "metadata": {},
     "output_type": "execute_result"
    }
   ],
   "source": [
    "ingredientes = pd.Series(['4 tazas', '1 taza', '2 unidades XL', '1 pieza'], index=['Harina', 'Lecha', 'Huevo', 'Limon'])\n",
    "ingredientes"
   ]
  },
  {
   "cell_type": "markdown",
   "metadata": {},
   "source": [
    "## Ejercicio 4\n",
    "\n",
    "Lee el dataset llamado **datos_casas_india.csv** que está en la ruta **/Dia-02/datasets/datos_casas_india.csv** en una variable de tipo dataframe y llámalo casas_india, finalmente muestra su contenido.\n",
    "\n"
   ]
  },
  {
   "cell_type": "code",
   "execution_count": null,
   "metadata": {},
   "outputs": [
    {
     "data": {
      "text/html": [
       "<div>\n",
       "<style scoped>\n",
       "    .dataframe tbody tr th:only-of-type {\n",
       "        vertical-align: middle;\n",
       "    }\n",
       "\n",
       "    .dataframe tbody tr th {\n",
       "        vertical-align: top;\n",
       "    }\n",
       "\n",
       "    .dataframe thead th {\n",
       "        text-align: right;\n",
       "    }\n",
       "</style>\n",
       "<table border=\"1\" class=\"dataframe\">\n",
       "  <thead>\n",
       "    <tr style=\"text-align: right;\">\n",
       "      <th></th>\n",
       "      <th>house_type</th>\n",
       "      <th>house_size</th>\n",
       "      <th>location</th>\n",
       "      <th>city</th>\n",
       "      <th>latitude</th>\n",
       "      <th>longitude</th>\n",
       "      <th>price</th>\n",
       "      <th>currency</th>\n",
       "      <th>numBathrooms</th>\n",
       "      <th>numBalconies</th>\n",
       "      <th>isNegotiable</th>\n",
       "      <th>priceSqFt</th>\n",
       "      <th>verificationDate</th>\n",
       "      <th>description</th>\n",
       "      <th>SecurityDeposit</th>\n",
       "      <th>Status</th>\n",
       "    </tr>\n",
       "  </thead>\n",
       "  <tbody>\n",
       "    <tr>\n",
       "      <th>0</th>\n",
       "      <td>1 RK Studio Apartment</td>\n",
       "      <td>400 sq ft</td>\n",
       "      <td>Kalkaji</td>\n",
       "      <td>Delhi</td>\n",
       "      <td>28.545561</td>\n",
       "      <td>77.254349</td>\n",
       "      <td>22000</td>\n",
       "      <td>INR</td>\n",
       "      <td>1.0</td>\n",
       "      <td>NaN</td>\n",
       "      <td>NaN</td>\n",
       "      <td>NaN</td>\n",
       "      <td>Posted a day ago</td>\n",
       "      <td>Fully furnished, loaded with amenities &amp; gadge...</td>\n",
       "      <td>No Deposit</td>\n",
       "      <td>Furnished</td>\n",
       "    </tr>\n",
       "    <tr>\n",
       "      <th>1</th>\n",
       "      <td>1 RK Studio Apartment</td>\n",
       "      <td>400 sq ft</td>\n",
       "      <td>Mansarover Garden</td>\n",
       "      <td>Delhi</td>\n",
       "      <td>28.643259</td>\n",
       "      <td>77.132828</td>\n",
       "      <td>20000</td>\n",
       "      <td>INR</td>\n",
       "      <td>1.0</td>\n",
       "      <td>NaN</td>\n",
       "      <td>NaN</td>\n",
       "      <td>NaN</td>\n",
       "      <td>Posted 9 days ago</td>\n",
       "      <td>Here is an excellent 1 BHK Independent Floor a...</td>\n",
       "      <td>No Deposit</td>\n",
       "      <td>Furnished</td>\n",
       "    </tr>\n",
       "    <tr>\n",
       "      <th>2</th>\n",
       "      <td>2 BHK Independent Floor</td>\n",
       "      <td>500 sq ft</td>\n",
       "      <td>Uttam Nagar</td>\n",
       "      <td>Delhi</td>\n",
       "      <td>28.618677</td>\n",
       "      <td>77.053352</td>\n",
       "      <td>8500</td>\n",
       "      <td>INR</td>\n",
       "      <td>1.0</td>\n",
       "      <td>NaN</td>\n",
       "      <td>NaN</td>\n",
       "      <td>NaN</td>\n",
       "      <td>Posted 12 days ago</td>\n",
       "      <td>Zero Brokerage.\\r\\n\\r\\n2 Room set, Govt bijali...</td>\n",
       "      <td>No Deposit</td>\n",
       "      <td>Semi-Furnished</td>\n",
       "    </tr>\n",
       "    <tr>\n",
       "      <th>3</th>\n",
       "      <td>3 BHK Independent House</td>\n",
       "      <td>1,020 sq ft</td>\n",
       "      <td>Model Town</td>\n",
       "      <td>Delhi</td>\n",
       "      <td>28.712898</td>\n",
       "      <td>77.180000</td>\n",
       "      <td>48000</td>\n",
       "      <td>INR</td>\n",
       "      <td>3.0</td>\n",
       "      <td>NaN</td>\n",
       "      <td>NaN</td>\n",
       "      <td>NaN</td>\n",
       "      <td>Posted a year ago</td>\n",
       "      <td>Itâs a 3 bhk independent house situated in M...</td>\n",
       "      <td>No Deposit</td>\n",
       "      <td>Furnished</td>\n",
       "    </tr>\n",
       "    <tr>\n",
       "      <th>4</th>\n",
       "      <td>2 BHK Apartment</td>\n",
       "      <td>810 sq ft</td>\n",
       "      <td>Sector 13 Rohini</td>\n",
       "      <td>Delhi</td>\n",
       "      <td>28.723539</td>\n",
       "      <td>77.131424</td>\n",
       "      <td>20000</td>\n",
       "      <td>INR</td>\n",
       "      <td>2.0</td>\n",
       "      <td>NaN</td>\n",
       "      <td>NaN</td>\n",
       "      <td>NaN</td>\n",
       "      <td>Posted a year ago</td>\n",
       "      <td>Well designed 2 bhk multistorey apartment is a...</td>\n",
       "      <td>No Deposit</td>\n",
       "      <td>Unfurnished</td>\n",
       "    </tr>\n",
       "  </tbody>\n",
       "</table>\n",
       "</div>"
      ],
      "text/plain": [
       "                 house_type   house_size           location   city   latitude  \\\n",
       "0    1 RK Studio Apartment     400 sq ft            Kalkaji  Delhi  28.545561   \n",
       "1    1 RK Studio Apartment     400 sq ft  Mansarover Garden  Delhi  28.643259   \n",
       "2  2 BHK Independent Floor     500 sq ft        Uttam Nagar  Delhi  28.618677   \n",
       "3  3 BHK Independent House   1,020 sq ft         Model Town  Delhi  28.712898   \n",
       "4          2 BHK Apartment     810 sq ft   Sector 13 Rohini  Delhi  28.723539   \n",
       "\n",
       "   longitude  price currency  numBathrooms  numBalconies isNegotiable  \\\n",
       "0  77.254349  22000      INR           1.0           NaN          NaN   \n",
       "1  77.132828  20000      INR           1.0           NaN          NaN   \n",
       "2  77.053352   8500      INR           1.0           NaN          NaN   \n",
       "3  77.180000  48000      INR           3.0           NaN          NaN   \n",
       "4  77.131424  20000      INR           2.0           NaN          NaN   \n",
       "\n",
       "   priceSqFt    verificationDate  \\\n",
       "0        NaN    Posted a day ago   \n",
       "1        NaN   Posted 9 days ago   \n",
       "2        NaN  Posted 12 days ago   \n",
       "3        NaN   Posted a year ago   \n",
       "4        NaN   Posted a year ago   \n",
       "\n",
       "                                         description SecurityDeposit  \\\n",
       "0  Fully furnished, loaded with amenities & gadge...      No Deposit   \n",
       "1  Here is an excellent 1 BHK Independent Floor a...      No Deposit   \n",
       "2  Zero Brokerage.\\r\\n\\r\\n2 Room set, Govt bijali...      No Deposit   \n",
       "3  Itâs a 3 bhk independent house situated in M...      No Deposit   \n",
       "4  Well designed 2 bhk multistorey apartment is a...      No Deposit   \n",
       "\n",
       "           Status  \n",
       "0       Furnished  \n",
       "1       Furnished  \n",
       "2  Semi-Furnished  \n",
       "3       Furnished  \n",
       "4     Unfurnished  "
      ]
     },
     "execution_count": 12,
     "metadata": {},
     "output_type": "execute_result"
    }
   ],
   "source": [
    "casas_india = pd.read_csv('../datasets/datos_casas_india.csv')\n",
    "casas_india.head()\n",
    "casas_india.shape\n"
   ]
  },
  {
   "cell_type": "markdown",
   "metadata": {},
   "source": [
    "## Ejercicio 5\n",
    "\n",
    "Ejecuta la siguiente celda para crear un dataframe llamado animales y crea una celda extra en la que se escriba ese dataframe en un fichero CSV en la ruta **/Dia-02/datasets/animales.csv**"
   ]
  },
  {
   "cell_type": "code",
   "execution_count": 13,
   "metadata": {},
   "outputs": [
    {
     "data": {
      "text/html": [
       "<div>\n",
       "<style scoped>\n",
       "    .dataframe tbody tr th:only-of-type {\n",
       "        vertical-align: middle;\n",
       "    }\n",
       "\n",
       "    .dataframe tbody tr th {\n",
       "        vertical-align: top;\n",
       "    }\n",
       "\n",
       "    .dataframe thead th {\n",
       "        text-align: right;\n",
       "    }\n",
       "</style>\n",
       "<table border=\"1\" class=\"dataframe\">\n",
       "  <thead>\n",
       "    <tr style=\"text-align: right;\">\n",
       "      <th></th>\n",
       "      <th>Vacas</th>\n",
       "      <th>Cabras</th>\n",
       "    </tr>\n",
       "  </thead>\n",
       "  <tbody>\n",
       "    <tr>\n",
       "      <th>Año 1</th>\n",
       "      <td>12</td>\n",
       "      <td>22</td>\n",
       "    </tr>\n",
       "    <tr>\n",
       "      <th>Año 2</th>\n",
       "      <td>20</td>\n",
       "      <td>19</td>\n",
       "    </tr>\n",
       "  </tbody>\n",
       "</table>\n",
       "</div>"
      ],
      "text/plain": [
       "       Vacas  Cabras\n",
       "Año 1     12      22\n",
       "Año 2     20      19"
      ]
     },
     "execution_count": 13,
     "metadata": {},
     "output_type": "execute_result"
    }
   ],
   "source": [
    "animales = pd.read_csv('../datasets/animales.csv', index_col=0)\n",
    "animales.head()"
   ]
  },
  {
   "cell_type": "code",
   "execution_count": 15,
   "metadata": {},
   "outputs": [],
   "source": [
    "animales.to_csv('../datasets/animales_modified.csv')"
   ]
  }
 ],
 "metadata": {
  "kernelspec": {
   "display_name": "base",
   "language": "python",
   "name": "python3"
  },
  "language_info": {
   "codemirror_mode": {
    "name": "ipython",
    "version": 3
   },
   "file_extension": ".py",
   "mimetype": "text/x-python",
   "name": "python",
   "nbconvert_exporter": "python",
   "pygments_lexer": "ipython3",
   "version": "3.13.5"
  },
  "orig_nbformat": 4
 },
 "nbformat": 4,
 "nbformat_minor": 2
}
